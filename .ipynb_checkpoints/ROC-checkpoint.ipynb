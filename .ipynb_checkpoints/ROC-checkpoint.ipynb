{
 "cells": [
  {
   "cell_type": "markdown",
   "metadata": {},
   "source": [
    "- 混淆矩阵\n",
    "\n",
    "在人工智能中，混淆矩阵（英语：confusion matrix）是可视化工具，特别用于监督学习，在无监督学习一般叫做匹配矩阵。矩阵的每一列代表一个类的实例预测，而每一行表示一个实际的类的实例。基于实际的名称可以更容易判断机器是否将两个不同的类混淆了。在机器学习领域，混淆矩阵通常被称为列联表或误差矩阵。\n",
    "\n",
    "<img src=\"1.png\" style=\"width:600px;height:300px;\">"
   ]
  },
  {
   "cell_type": "markdown",
   "metadata": {},
   "source": [
    "- 正确率与召回率\n",
    "\n",
    "在二元分类问题中，我们的混淆矩阵就变成了如下这个样子：\n",
    "<table>\n",
    "   <tr>\n",
    "      <td></td>\n",
    "      <td></td>\n",
    "      <td>预测值</td>\n",
    "      <td></td>\n",
    "   </tr>\n",
    "   <tr>\n",
    "      <td></td>\n",
    "      <td></td>\n",
    "      <td>1</td>\n",
    "      <td>-1</td>\n",
    "   </tr>\n",
    "   <tr>\n",
    "      <td>真实值<br></td>\n",
    "      <td>1</td>\n",
    "      <td>真正例(TP)</td>\n",
    "      <td>伪反例(FN)</td>\n",
    "   </tr>\n",
    "   <tr>\n",
    "      <td></td>\n",
    "      <td>-1</td>\n",
    "      <td>伪正例(FP)</td>\n",
    "      <td>真反例(TN)</td>\n",
    "   </tr>\n",
    "   <tr>\n",
    "      <td></td>\n",
    "   </tr>\n",
    "</table>"
   ]
  },
  {
   "cell_type": "code",
   "execution_count": null,
   "metadata": {},
   "outputs": [],
   "source": []
  }
 ],
 "metadata": {
  "kernelspec": {
   "display_name": "Python 3",
   "language": "python",
   "name": "python3"
  },
  "language_info": {
   "codemirror_mode": {
    "name": "ipython",
    "version": 3
   },
   "file_extension": ".py",
   "mimetype": "text/x-python",
   "name": "python",
   "nbconvert_exporter": "python",
   "pygments_lexer": "ipython3",
   "version": "3.6.5"
  }
 },
 "nbformat": 4,
 "nbformat_minor": 2
}
