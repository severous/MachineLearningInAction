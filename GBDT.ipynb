{
 "cells": [
  {
   "cell_type": "markdown",
   "metadata": {},
   "source": [
    "# GBDT的简单实现"
   ]
  },
  {
   "cell_type": "code",
   "execution_count": 196,
   "metadata": {},
   "outputs": [],
   "source": [
    "import pandas as pd\n",
    "import numpy as np\n",
    "import matplotlib.pyplot as plt\n"
   ]
  },
  {
   "cell_type": "markdown",
   "metadata": {},
   "source": [
    "## 创建结点类\n",
    "\n",
    "创建结点类的目的是为了存储每次划分的最优特征和阈值。\n",
    "\n",
    "使用类的原因在于在建立树的过程中，需要知道每个结点的具体参数，这样每个结点就是一个类对象。\n",
    "在下面的程序中我们创建的`_build_tree()`函数的返回值就是一个DecisionNode实例对象。由于涉及到函数的递归，最先调用的`_build_tree()`函数将最最后结束并返回该树的根节点。"
   ]
  },
  {
   "cell_type": "code",
   "execution_count": 197,
   "metadata": {},
   "outputs": [],
   "source": [
    "class DecisionNode():\n",
    "    \"\"\"Class that represents a decision node or leaf in the decision tree\n",
    "\n",
    "    Parameters:\n",
    "    -----------\n",
    "    feature_i: int\n",
    "        Feature index which we want to use as the threshold measure.\n",
    "    threshold: float\n",
    "        The value that we will compare feature values at feature_i against to\n",
    "        determine the prediction.\n",
    "    value: float\n",
    "        The class prediction if classification tree, or float value if regression tree.\n",
    "    true_branch: DecisionNode\n",
    "        Next decision node for samples where features value met the threshold.\n",
    "    false_branch: DecisionNode\n",
    "        Next decision node for samples where features value did not meet the threshold.\n",
    "    \"\"\"\n",
    "    def __init__(self, feature_i=None, threshold=None,\n",
    "                 value=None, true_branch=None, false_branch=None):\n",
    "        self.feature_i = feature_i          # Index for the feature that is tested\n",
    "        self.threshold = threshold          # Threshold value for feature\n",
    "        self.value = value                  # Value if the node is a leaf in the tree\n",
    "        self.true_branch = true_branch      # 'Left' subtree\n",
    "        self.false_branch = false_branch    # 'Right' subtree\n"
   ]
  },
  {
   "cell_type": "markdown",
   "metadata": {},
   "source": [
    "## GBDT实现的相关函数\n",
    "### GBDT算法\n",
    "$$Grandient\\quad boosting = Gradient\\quad descent\\quad +\\quad Boosting$$\n",
    "- Adaboost\n",
    "\n",
    "在Adaboost中针对同一个训练集训练不同的分类器(弱分类器)，然后把这些弱分类器集合起来，构成一个更强的最终分类器(强分类器)。其算法本身是通过改变数据分布来实现的，它根据每次训练集之中每个样本的分类是否正确，以及上次的总体分类的准确率，来确定每个样本的权值。将修改过权值的新数据集送给下层分类器进行训练，最后将每次训练得到的分类器最后融合起来，作为最后的决策分类器。使用adaboost分类器可以排除一些不必要的训练数据特征，并放在关键的训练数据上面。换句话说，Adaboost通过加大分错样本的权重来克服分类器的不足\n",
    "<img src=\"adaboost.png\" style=\"width:600px;height:150px;\">\n",
    "$$\\text{Adaboost:}\\hspace{0.5cm}H(x)=\\sum_{t}\\rho_th_t(x)$$\n",
    "<img src=\"adaboost2.png\" style=\"width:400px;height:300px;\">\n",
    "\n",
    "- GBDT\n",
    "\n",
    "在理解Adaboost的基础上，GBDT采取的是和Adaboost相同的思路，不同的是GBDT通过梯度来克服分类器的不足。我们可以将其概括如下：\n",
    "\n",
    "输入:训练集$T=\\left \\{\\right(x_1,y_1),(x_2,y_2),\\cdots,(x_N,y_N) \\}$,损失函数$L(y,f(x))$\n",
    "\n",
    "输出：回归树$\\hat{f(x)}$\n",
    "\n",
    "(1)初始化：$f_0(x)=argmin_{c}\\sum_{i}^{N}L(y_i,f(x))$,当然一般是$f(x)=\\frac{\\sum_{i=1}^{N}y_i}{N}$\n",
    "\n",
    "(2)循环执行m次，直至收敛。\n",
    "\n",
    "(a)计算负梯度：$$-\\frac{\\partial{L(y_i,f(x_i))))}}{\\partial{f(x_i))}}$$\n",
    "当然如果我们的损失函数取的是平方损失函数的话，这时候我们的负梯度恰好就是我们所说的残差$y-y_{pred}$\n",
    "\n",
    "(b)用负梯度取拟合一个回归树$h$\n",
    "\n",
    "(c)更新$f:f+\\rho h$\n",
    "\n",
    "- GBDT相关函数\n",
    "\n",
    "`calculate_gradient`用于计算负梯度，由于我们采取的损失函数是平方损失函数，所以负梯度恰好是残差，并且要注意的是，我们多加了一个负号，但是在更新过程中我们用的是减号，两相抵消，符合(2)(c)\n",
    "\n",
    "在建立回归树的过程中，我们采用的损失函数是平方损失函数，及当我们每次把数据分为两部分时，我们都要计算这两部分数据的最小平方误差，即$\\sum\\limits_{x_i\\in R_m}(y_i-f(x_i))^2$，容易得出当$f(x_i)=mean(y_i)$时，损失函数最小，这时候相当于在计算两部分数据的方差，最后与未分割之前的数据的平方损失进行比较，选取误差减小最大的作为最优的分割特征。最后还要计算误差的减小值，当这个值小于某个阈值的时候这时表示已经没有再分割数据的必要了。"
   ]
  },
  {
   "cell_type": "code",
   "execution_count": 198,
   "metadata": {},
   "outputs": [],
   "source": [
    "def calculate_gradient(y, y_pred):\n",
    "    return -(y - y_pred)"
   ]
  },
  {
   "cell_type": "code",
   "execution_count": 199,
   "metadata": {},
   "outputs": [],
   "source": [
    "def calculate_variance(X):\n",
    "    \"\"\" Return the variance of the features in dataset X \"\"\"\n",
    "    \n",
    "    mean = np.ones(np.shape(X)) * X.mean(0)\n",
    "    n_samples = np.shape(X)[0]\n",
    "    variance = (1 / n_samples) * np.diag((X - mean).T.dot(X - mean))\n",
    "    \n",
    "    return variance"
   ]
  },
  {
   "cell_type": "code",
   "execution_count": 200,
   "metadata": {},
   "outputs": [],
   "source": [
    "def _calculate_variance_reduction(y, y1, y2):\n",
    "    var_tot = calculate_variance(y)\n",
    "    var_1 = calculate_variance(y1)\n",
    "    var_2 = calculate_variance(y2)\n",
    "    \n",
    "\n",
    "    # Calculate the variance reduction\n",
    "    variance_reduction = var_tot - ((len(y1)/len(y))*var_1 +(len(y2)/len(y))*var_2)\n",
    "    \n",
    "    return sum(variance_reduction) # sum是为了把只有一个元素的一维数组中的数据提取出来"
   ]
  },
  {
   "cell_type": "markdown",
   "metadata": {},
   "source": [
    "## 建立树结点\n",
    "\n",
    "`divide_on_feature`用于根据阈值划分数据，`_mean_of_y`用于当停止分割后，计算每个叶子结点的值，即树的预测值。\n",
    "`_build_tree`采用递归方法建立树，该函数的返回值是DecisionNode实例对象，这样做的好处，每个树结点都是一个实例对象\n",
    "，可以通过调用其属性，知道该结点的特征，尤其要注意的是，属性true_branc和false_branch也是DecisionNode实例对象，这相当于一个嵌套，我们可以通过这个嵌套来遍历整棵树。"
   ]
  },
  {
   "cell_type": "code",
   "execution_count": 201,
   "metadata": {},
   "outputs": [],
   "source": [
    "def divide_on_feature(X, feature_i, threshold):\n",
    "    \"\"\" Divide dataset based on if sample value on feature index is larger than\n",
    "        the given threshold \"\"\"\n",
    "    split_func = None\n",
    "    if isinstance(threshold, int) or isinstance(threshold, float):\n",
    "        split_func = lambda sample: sample[feature_i] >= threshold\n",
    "    else:\n",
    "        split_func = lambda sample: sample[feature_i] == threshold\n",
    "\n",
    "    X_1 = np.array([sample for sample in X if split_func(sample)])\n",
    "    X_2 = np.array([sample for sample in X if not split_func(sample)])\n",
    "\n",
    "    return np.array([X_1, X_2])\n"
   ]
  },
  {
   "cell_type": "code",
   "execution_count": 202,
   "metadata": {},
   "outputs": [],
   "source": [
    "def _mean_of_y(y):\n",
    "    value = np.mean(y, axis=0)\n",
    "    return value if len(value) > 1 else value[0]  "
   ]
  },
  {
   "cell_type": "code",
   "execution_count": 203,
   "metadata": {},
   "outputs": [],
   "source": [
    "def _build_tree(X, y,current_depth=0, min_samples_split=2,  max_depth=4, min_impurity=1e-7):\n",
    "        \"\"\" Recursive method which builds out the decision tree and splits X and respective y\n",
    "        on the feature of X which (based on impurity) best separates the data\"\"\"\n",
    "       \n",
    "        largest_impurity = 0\n",
    "        best_criteria = None  # Feature index and threshold\n",
    "        best_sets = None  # Subsets of the data\n",
    "\n",
    "    # Check if expansion of y is needed\n",
    "        if len(np.shape(y)) == 1:\n",
    "            y = np.expand_dims(y, axis=1)\n",
    "    # Add y as last column of X\n",
    "        Xy = np.concatenate((X, y), axis=1)\n",
    "        n_samples, n_features = np.shape(X)\n",
    "        if n_samples >= min_samples_split and current_depth <= max_depth:\n",
    "        # Calculate the impurity for each feature\n",
    "            for feature_i in range(n_features):\n",
    "        # All values of feature_i\n",
    "                feature_values = np.expand_dims(X[:, feature_i], axis=1)\n",
    "                unique_values = np.unique(feature_values)\n",
    "            # Iterate through all unique values of feature column i and\n",
    "            # calculate the impurity\n",
    "                for threshold in unique_values:\n",
    "            # Divide X and y depending on if the feature value of X at index feature_i\n",
    "            # meets the threshold\n",
    "                    Xy1, Xy2 = divide_on_feature(Xy, feature_i, threshold)\n",
    "                    if len(Xy1) > 0 and len(Xy2) > 0:\n",
    "                # Select the y-values of the two sets\n",
    "                        y1 = Xy1[:, n_features:]\n",
    "                        y2 = Xy2[:, n_features:]\n",
    "                    # Calculate impurity\n",
    "                        impurity = _calculate_variance_reduction(y, y1, y2)\n",
    "                # If this threshold resulted in a higher information gain than previously\n",
    "                # recorded save the threshold value and the feature\n",
    "                # index\n",
    "                        if impurity > largest_impurity:\n",
    "                            largest_impurity = impurity\n",
    "                            best_criteria = {\"feature_i\": feature_i, \"threshold\": threshold}\n",
    "                            best_sets = {\n",
    "                                \"leftX\": Xy1[:, :n_features],   # X of left subtree\n",
    "                                \"lefty\": Xy1[:, n_features:],   # y of left subtree\n",
    "                                \"rightX\": Xy2[:, :n_features],  # X of right subtree\n",
    "                                \"righty\": Xy2[:, n_features:]   # y of right subtree\n",
    "                                }\n",
    "        if largest_impurity > min_impurity:\n",
    "        # Build subtrees for the right and left branches\n",
    "            true_branch =  _build_tree(best_sets[\"leftX\"], best_sets[\"lefty\"], current_depth+ 1)\n",
    "            false_branch = _build_tree(best_sets[\"rightX\"], best_sets[\"righty\"],current_depth+ 1)\n",
    "            return DecisionNode(feature_i=best_criteria[\"feature_i\"], threshold=best_criteria[\n",
    "                                \"threshold\"], true_branch=true_branch, false_branch=false_branch)\n",
    "    # We're at leaf => determine value\n",
    "        leaf_value = _mean_of_y(y)\n",
    "        return DecisionNode(value=leaf_value)\n"
   ]
  },
  {
   "cell_type": "markdown",
   "metadata": {},
   "source": [
    "## 预测\n",
    "\n",
    "`predict_value`实在不断递归调用DecisionNode实例对象，来实现遍历整个回归树，每一个树结点相当于对数据进行划分，直至遇到叶子结点，即返回预测值。\n",
    "\n",
    "`predict`一个一个样本的调用`predict_value`,这样就不会破坏原有的索引。"
   ]
  },
  {
   "cell_type": "code",
   "execution_count": 204,
   "metadata": {},
   "outputs": [],
   "source": [
    "def predict_value(x, root):\n",
    "    \n",
    "    tree = root\n",
    "    if tree.value is not None:\n",
    "        return tree.value\n",
    "    feature_value = x[tree.feature_i]\n",
    "    branch = tree.false_branch\n",
    "    \n",
    "    if isinstance(feature_value, int) or isinstance(feature_value, float):\n",
    "        if feature_value >= tree.threshold:\n",
    "            branch = tree.true_branch\n",
    "                \n",
    "    elif feature_value == tree.threshold:\n",
    "        branch = tree.true_branch\n",
    "\n",
    "    return predict_value(x, branch)\n"
   ]
  },
  {
   "cell_type": "code",
   "execution_count": 205,
   "metadata": {},
   "outputs": [],
   "source": [
    "def predict(X,root):\n",
    "    y_pred = [predict_value(sample,root) for sample in X]\n",
    "    return y_pred    \n",
    "    "
   ]
  },
  {
   "cell_type": "code",
   "execution_count": 206,
   "metadata": {},
   "outputs": [],
   "source": [
    "def fit(X, y,n_estimators=200,learning_rate=0.5):\n",
    "    y_pred = np.full(np.shape(y), np.mean(y, axis=0))\n",
    "  \n",
    "    for i in range(n_estimators):\n",
    "        gradient = calculate_gradient(y, y_pred)\n",
    "        \n",
    "        root= _build_tree(X, gradient)\n",
    "        \n",
    "        \n",
    "        update = predict(X, root)\n",
    "        \n",
    "            # Update y prediction\n",
    "        y_pred -= np.multiply(learning_rate, update)\n",
    "         \n",
    "    return y_pred\n"
   ]
  },
  {
   "cell_type": "code",
   "execution_count": 207,
   "metadata": {},
   "outputs": [],
   "source": [
    "def shuffle_data(X, y, seed=None):\n",
    "    \"\"\" Random shuffle of the samples in X and y \"\"\"\n",
    "    if seed:\n",
    "        np.random.seed(seed)\n",
    "    idx = np.arange(X.shape[0])\n",
    "    np.random.shuffle(idx)\n",
    "    return X[idx], y[idx]"
   ]
  },
  {
   "cell_type": "code",
   "execution_count": 208,
   "metadata": {},
   "outputs": [],
   "source": [
    "def train_test_split(X, y, test_size=0.5, shuffle=True, seed=None):\n",
    "    \"\"\" Split the data into train and test sets \"\"\"\n",
    "    if shuffle:\n",
    "        X, y = shuffle_data(X, y, seed)\n",
    "    # Split the training data from test data in the ratio specified in\n",
    "    # test_size\n",
    "    split_i = len(y) - int(len(y) // (1 / test_size))\n",
    "    X_train, X_test = X[:split_i], X[split_i:]\n",
    "    y_train, y_test = y[:split_i], y[split_i:]\n",
    "\n",
    "    return X_train, X_test, y_train, y_test\n"
   ]
  },
  {
   "cell_type": "code",
   "execution_count": 209,
   "metadata": {},
   "outputs": [
    {
     "name": "stdout",
     "output_type": "stream",
     "text": [
      "-- Gradient Boosting Regression --\n"
     ]
    },
    {
     "name": "stderr",
     "output_type": "stream",
     "text": [
      "C:\\Users\\123456\\Anaconda3\\envs\\tensorflow\\lib\\site-packages\\ipykernel_launcher.py:7: FutureWarning: Method .as_matrix will be removed in a future version. Use .values instead.\n",
      "  import sys\n",
      "C:\\Users\\123456\\Anaconda3\\envs\\tensorflow\\lib\\site-packages\\ipykernel_launcher.py:8: FutureWarning: Method .as_matrix will be removed in a future version. Use .values instead.\n",
      "  \n"
     ]
    },
    {
     "data": {
      "text/plain": [
       "<matplotlib.collections.PathCollection at 0x1c5d2e57208>"
      ]
     },
     "execution_count": 209,
     "metadata": {},
     "output_type": "execute_result"
    },
    {
     "data": {
      "image/png": "[encoded data removed]",
      "text/plain": [
       "<Figure size 432x288 with 1 Axes>"
      ]
     },
     "metadata": {},
     "output_type": "display_data"
    }
   ],
   "source": [
    "print (\"-- Gradient Boosting Regression --\")\n",
    "\n",
    "# Load temperature data\n",
    "data = pd.read_csv('F:\\python\\GBDT\\ML-From-Scratch-master\\ML-From-Scratch-master\\mlfromscratch\\data\\TempLinkoping2016.txt', sep=\"\\t\")\n",
    "# as_matrix(): Convert the frame to its Numpy-array representation.\n",
    "    # np.atleast_2d:View inputs as arrays with at least two dimensions.\n",
    "time = np.atleast_2d(data[\"time\"].as_matrix()).T\n",
    "temp = np.atleast_2d(data[\"temp\"].as_matrix()).T\n",
    "\n",
    "X = time.reshape((-1, 1))               # Time. Fraction of the year [0, 1]\n",
    "X = np.insert(X, 0, values=1, axis=1)   # Insert bias term\n",
    "\n",
    "y = temp[:, 0]                          # Temperature. Reduce to one-dim\n",
    "\n",
    "X_train, X_test, y_train, y_test = train_test_split(X, y, test_size=0.5)\n",
    "y_pred = fit(X_train, y_train)\n",
    "plt.scatter(X_train[:,1],y_train)\n",
    "plt.scatter(X_train[:,1],y_pred)"
   ]
  },
  {
   "cell_type": "code",
   "execution_count": null,
   "metadata": {},
   "outputs": [],
   "source": []
  },
  {
   "cell_type": "code",
   "execution_count": null,
   "metadata": {},
   "outputs": [],
   "source": []
  }
 ],
 "metadata": {
  "kernelspec": {
   "display_name": "Python 3",
   "language": "python",
   "name": "python3"
  },
  "language_info": {
   "codemirror_mode": {
    "name": "ipython",
    "version": 3
   },
   "file_extension": ".py",
   "mimetype": "text/x-python",
   "name": "python",
   "nbconvert_exporter": "python",
   "pygments_lexer": "ipython3",
   "version": "3.5.5"
  }
 },
 "nbformat": 4,
 "nbformat_minor": 2
}
